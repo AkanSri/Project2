{
 "cells": [
  {
   "cell_type": "code",
   "execution_count": 115,
   "metadata": {},
   "outputs": [],
   "source": [
    "import pandas as pd\n",
    "from pathlib import Path\n",
    "import seaborn as sns\n",
    "import tensorflow as tf\n",
    "import tensorflow as tf\n",
    "from tensorflow.keras.layers import Dense\n",
    "from tensorflow.keras.models import Sequential\n",
    "from sklearn.preprocessing import StandardScaler\n",
    "from sklearn.model_selection import train_test_split\n",
    "import numpy as np\n",
    "\n",
    "%matplotlib inline"
   ]
  },
  {
   "cell_type": "code",
   "execution_count": 116,
   "metadata": {},
   "outputs": [],
   "source": [
    "fraud_reporting = pd.read_csv(Path(\"Resources/combined_data.csv\"), thousands=',', index_col='Year')\n",
    "fraud_reporting.drop(columns=\"Quarter\", inplace=True)\n"
   ]
  },
  {
   "cell_type": "code",
   "execution_count": 117,
   "metadata": {},
   "outputs": [
    {
     "data": {
      "text/html": [
       "<div>\n",
       "<style scoped>\n",
       "    .dataframe tbody tr th:only-of-type {\n",
       "        vertical-align: middle;\n",
       "    }\n",
       "\n",
       "    .dataframe tbody tr th {\n",
       "        vertical-align: top;\n",
       "    }\n",
       "\n",
       "    .dataframe thead th {\n",
       "        text-align: right;\n",
       "    }\n",
       "</style>\n",
       "<table border=\"1\" class=\"dataframe\">\n",
       "  <thead>\n",
       "    <tr style=\"text-align: right;\">\n",
       "      <th></th>\n",
       "      <th>Fraud Reporting Count</th>\n",
       "      <th>Net Operating Income(Billions)</th>\n",
       "      <th>Lagged Fraud Reporting Count</th>\n",
       "      <th>Lagged Net Operating Income(Billions)</th>\n",
       "    </tr>\n",
       "    <tr>\n",
       "      <th>Year</th>\n",
       "      <th></th>\n",
       "      <th></th>\n",
       "      <th></th>\n",
       "      <th></th>\n",
       "    </tr>\n",
       "  </thead>\n",
       "  <tbody>\n",
       "    <tr>\n",
       "      <th>2014</th>\n",
       "      <td>82364</td>\n",
       "      <td>36.8</td>\n",
       "      <td>NaN</td>\n",
       "      <td>NaN</td>\n",
       "    </tr>\n",
       "    <tr>\n",
       "      <th>2014</th>\n",
       "      <td>95516</td>\n",
       "      <td>39.8</td>\n",
       "      <td>82364.0</td>\n",
       "      <td>36.8</td>\n",
       "    </tr>\n",
       "    <tr>\n",
       "      <th>2014</th>\n",
       "      <td>94084</td>\n",
       "      <td>38.1</td>\n",
       "      <td>95516.0</td>\n",
       "      <td>39.8</td>\n",
       "    </tr>\n",
       "    <tr>\n",
       "      <th>2014</th>\n",
       "      <td>90868</td>\n",
       "      <td>36.0</td>\n",
       "      <td>94084.0</td>\n",
       "      <td>38.1</td>\n",
       "    </tr>\n",
       "    <tr>\n",
       "      <th>2015</th>\n",
       "      <td>90566</td>\n",
       "      <td>39.0</td>\n",
       "      <td>90868.0</td>\n",
       "      <td>36.0</td>\n",
       "    </tr>\n",
       "  </tbody>\n",
       "</table>\n",
       "</div>"
      ],
      "text/plain": [
       "      Fraud Reporting Count  Net Operating Income(Billions)  \\\n",
       "Year                                                          \n",
       "2014                  82364                            36.8   \n",
       "2014                  95516                            39.8   \n",
       "2014                  94084                            38.1   \n",
       "2014                  90868                            36.0   \n",
       "2015                  90566                            39.0   \n",
       "\n",
       "      Lagged Fraud Reporting Count  Lagged Net Operating Income(Billions)  \n",
       "Year                                                                       \n",
       "2014                           NaN                                    NaN  \n",
       "2014                       82364.0                                   36.8  \n",
       "2014                       95516.0                                   39.8  \n",
       "2014                       94084.0                                   38.1  \n",
       "2015                       90868.0                                   36.0  "
      ]
     },
     "execution_count": 117,
     "metadata": {},
     "output_type": "execute_result"
    }
   ],
   "source": [
    "fraud_reporting.head()"
   ]
  },
  {
   "cell_type": "markdown",
   "metadata": {},
   "source": [
    "## Random reproducibility used for protyping to run multiple experiments to evaluate the model. "
   ]
  },
  {
   "cell_type": "code",
   "execution_count": 118,
   "metadata": {},
   "outputs": [],
   "source": [
    "from numpy.random import seed\n",
    "\n",
    "seed(1)\n",
    "from tensorflow import random\n",
    "\n",
    "random.set_seed(2)"
   ]
  },
  {
   "cell_type": "markdown",
   "metadata": {},
   "source": [
    "#### Feature `X` and Target `y` Data\n",
    "\n",
    "Identified quarterly timeframe through the use of `window_data()` function, to create the features set `X` and the target vector `y`. We defined the window size '4' to represent the quarter timeframe and use the column of the Fraud Reporting Count for feature and target column; to allow the model to predict the Quartertly Number Fraud Instances and Net Income. "
   ]
  },
  {
   "cell_type": "code",
   "execution_count": 119,
   "metadata": {},
   "outputs": [],
   "source": [
    "def window_data(df, window, feature_col_number, target_col_number):\n",
    "   \n",
    "    X = []\n",
    "    y = []\n",
    "    for i in range(len(df) - window):\n",
    "        features = df.iloc[i : (i + window), feature_col_number]\n",
    "        target = df.iloc[(i + window), target_col_number]\n",
    "        X.append(features)\n",
    "        y.append(target)\n",
    "    return np.array(X), np.array(y).reshape(-1, 1)"
   ]
  },
  {
   "cell_type": "code",
   "execution_count": 120,
   "metadata": {},
   "outputs": [
    {
     "name": "stdout",
     "output_type": "stream",
     "text": [
      "X sample values:\n",
      "[[[8.2364e+04 3.6800e+01]\n",
      "  [9.5516e+04 3.9800e+01]\n",
      "  [9.4084e+04 3.8100e+01]\n",
      "  [9.0868e+04 3.6000e+01]]\n",
      "\n",
      " [[9.5516e+04 3.9800e+01]\n",
      "  [9.4084e+04 3.8100e+01]\n",
      "  [9.0868e+04 3.6000e+01]\n",
      "  [9.0566e+04 3.9000e+01]]\n",
      "\n",
      " [[9.4084e+04 3.8100e+01]\n",
      "  [9.0868e+04 3.6000e+01]\n",
      "  [9.0566e+04 3.9000e+01]\n",
      "  [9.6365e+04 4.2600e+01]]] \n",
      "\n",
      "y sample values:\n",
      "[[ 90566]\n",
      " [ 96365]\n",
      " [101745]]\n"
     ]
    }
   ],
   "source": [
    "# Define the window size\n",
    "window_size = 4\n",
    "\n",
    "# Set the index of the feature and target columns\n",
    "feature_column = [0, 1]\n",
    "target_column = 0\n",
    "\n",
    "# Create the features (X) and target (y) data using the window_data() function.\n",
    "X, y = window_data(fraud_reporting, window_size, feature_column, target_column)\n",
    "\n",
    "# Print a few sample values from X and y\n",
    "print (f\"X sample values:\\n{X[:3]} \\n\")\n",
    "print (f\"y sample values:\\n{y[:3]}\")"
   ]
  },
  {
   "cell_type": "markdown",
   "metadata": {},
   "source": [
    "# Split the Data Between Training and Testing Sets "
   ]
  },
  {
   "cell_type": "code",
   "execution_count": 121,
   "metadata": {},
   "outputs": [],
   "source": [
    "split = int(0.7 * len(X))\n",
    "\n",
    "X_train = X[: split]\n",
    "\n",
    "X_test = X[split:]\n",
    "\n",
    "y_train = y[: split]\n",
    "y_test = y[split:]"
   ]
  },
  {
   "cell_type": "markdown",
   "metadata": {},
   "source": [
    "# Scaled Data with MinMaxScaler \n",
    "Used the MinMaxScaler to reshape the data for numpy array and trained and test the X and y target. "
   ]
  },
  {
   "cell_type": "code",
   "execution_count": 122,
   "metadata": {},
   "outputs": [],
   "source": [
    "from sklearn.preprocessing import MinMaxScaler\n",
    "scaler = MinMaxScaler()\n",
    "\n",
    "# Scale and reshape for X\n",
    "\n",
    "num_instances, num_time_steps, num_features = X_train.shape\n",
    "X_train_reshaped = np.reshape(X_train, newshape=(-1, num_features))\n",
    "scaler.fit(X_train_reshaped)\n",
    "X_train_scaled = scaler.transform(X_train_reshaped)\n",
    "X_train_scaled = np.reshape(X_train_scaled, newshape=(num_instances, num_time_steps, num_features))\n",
    "X_train_scaled\n",
    "\n",
    "num_instances, num_time_steps, num_features = X_test.shape\n",
    "X_test_reshaped = np.reshape(X_test, newshape=(-1, num_features))\n",
    "\n",
    "X_test_scaled = scaler.transform(X_test_reshaped)\n",
    "X_test_scaled = np.reshape(X_test_scaled, newshape=(num_instances, num_time_steps, num_features))\n",
    "X_test_scaled\n",
    "\n",
    "# Scale and reshape for y \n",
    "\n",
    "scaler.fit(y_train)\n",
    "y_train_scaled = scaler.transform(y_train)\n",
    "\n",
    "y_test_scaled = scaler.transform(y_test)\n",
    "\n"
   ]
  },
  {
   "cell_type": "markdown",
   "metadata": {},
   "source": [
    "## Tensorflow Keras Models for Sequential for LSTEM \n"
   ]
  },
  {
   "cell_type": "code",
   "execution_count": 123,
   "metadata": {},
   "outputs": [],
   "source": [
    "from tensorflow.keras.models import Sequential\n",
    "from tensorflow.keras.layers import LSTM, Dense, Dropout"
   ]
  },
  {
   "cell_type": "code",
   "execution_count": 124,
   "metadata": {},
   "outputs": [],
   "source": [
    "# Define the LSTM RNN model.\n",
    "model = Sequential()\n",
    "\n",
    "# Initial model setup\n",
    "number_units = 20\n",
    "dropout_fraction = 0.3\n",
    "\n",
    "# Layer 1\n",
    "model.add(LSTM(\n",
    "    units=number_units,\n",
    "    return_sequences=True,\n",
    "    input_shape=(X_train_scaled.shape[1], X_train_scaled.shape[2]))\n",
    "    )\n",
    "model.add(Dropout(dropout_fraction))\n",
    "\n",
    "# Layer 2\n",
    "model.add(LSTM(units=number_units, return_sequences=True))\n",
    "model.add(Dropout(dropout_fraction))\n",
    "\n",
    "# Layer 3\n",
    "model.add(LSTM(units=number_units, return_sequences=True))\n",
    "model.add(Dropout(dropout_fraction))\n",
    "\n",
    "# Layer 4\n",
    "model.add(LSTM(units=number_units))\n",
    "model.add(Dropout(dropout_fraction))\n",
    "\n",
    "# Output layer\n",
    "model.add(Dense(1))"
   ]
  },
  {
   "cell_type": "markdown",
   "metadata": {},
   "source": [
    "# Compling th LSTM Model \n",
    "We combined the model using the adam optimizer and the MSE (mean_square_error) as the loss function. The objective is the evaluate the differences between the true and predicated values. "
   ]
  },
  {
   "cell_type": "code",
   "execution_count": 125,
   "metadata": {},
   "outputs": [],
   "source": [
    "model.compile(optimizer=\"adam\", loss=\"mean_squared_error\")"
   ]
  },
  {
   "cell_type": "code",
   "execution_count": 126,
   "metadata": {},
   "outputs": [
    {
     "name": "stdout",
     "output_type": "stream",
     "text": [
      "Model: \"sequential_6\"\n",
      "_________________________________________________________________\n",
      " Layer (type)                Output Shape              Param #   \n",
      "=================================================================\n",
      " lstm_20 (LSTM)              (None, 4, 20)             1840      \n",
      "                                                                 \n",
      " dropout_20 (Dropout)        (None, 4, 20)             0         \n",
      "                                                                 \n",
      " lstm_21 (LSTM)              (None, 4, 20)             3280      \n",
      "                                                                 \n",
      " dropout_21 (Dropout)        (None, 4, 20)             0         \n",
      "                                                                 \n",
      " lstm_22 (LSTM)              (None, 4, 20)             3280      \n",
      "                                                                 \n",
      " dropout_22 (Dropout)        (None, 4, 20)             0         \n",
      "                                                                 \n",
      " lstm_23 (LSTM)              (None, 20)                3280      \n",
      "                                                                 \n",
      " dropout_23 (Dropout)        (None, 20)                0         \n",
      "                                                                 \n",
      " dense_6 (Dense)             (None, 1)                 21        \n",
      "                                                                 \n",
      "=================================================================\n",
      "Total params: 11,701\n",
      "Trainable params: 11,701\n",
      "Non-trainable params: 0\n",
      "_________________________________________________________________\n"
     ]
    }
   ],
   "source": [
    "model.summary()"
   ]
  },
  {
   "cell_type": "markdown",
   "metadata": {},
   "source": [
    "# Training the Model \n",
    "We trained the model used 15 epochs and a batch siez equal to 90. "
   ]
  },
  {
   "cell_type": "code",
   "execution_count": 127,
   "metadata": {},
   "outputs": [
    {
     "name": "stdout",
     "output_type": "stream",
     "text": [
      "Epoch 1/75\n",
      "1/1 [==============================] - 6s 6s/step - loss: 0.2585\n",
      "Epoch 2/75\n",
      "1/1 [==============================] - 0s 6ms/step - loss: 0.2527\n",
      "Epoch 3/75\n",
      "1/1 [==============================] - 0s 11ms/step - loss: 0.2490\n",
      "Epoch 4/75\n",
      "1/1 [==============================] - 0s 11ms/step - loss: 0.2453\n",
      "Epoch 5/75\n",
      "1/1 [==============================] - 0s 6ms/step - loss: 0.2396\n",
      "Epoch 6/75\n",
      "1/1 [==============================] - 0s 12ms/step - loss: 0.2314\n",
      "Epoch 7/75\n",
      "1/1 [==============================] - 0s 7ms/step - loss: 0.2277\n",
      "Epoch 8/75\n",
      "1/1 [==============================] - 0s 8ms/step - loss: 0.2217\n",
      "Epoch 9/75\n",
      "1/1 [==============================] - 0s 10ms/step - loss: 0.2194\n",
      "Epoch 10/75\n",
      "1/1 [==============================] - 0s 9ms/step - loss: 0.2097\n",
      "Epoch 11/75\n",
      "1/1 [==============================] - 0s 9ms/step - loss: 0.2051\n",
      "Epoch 12/75\n",
      "1/1 [==============================] - 0s 10ms/step - loss: 0.1970\n",
      "Epoch 13/75\n",
      "1/1 [==============================] - 0s 5ms/step - loss: 0.1936\n",
      "Epoch 14/75\n",
      "1/1 [==============================] - 0s 8ms/step - loss: 0.1833\n",
      "Epoch 15/75\n",
      "1/1 [==============================] - 0s 6ms/step - loss: 0.1860\n",
      "Epoch 16/75\n",
      "1/1 [==============================] - 0s 11ms/step - loss: 0.1742\n",
      "Epoch 17/75\n",
      "1/1 [==============================] - 0s 7ms/step - loss: 0.1697\n",
      "Epoch 18/75\n",
      "1/1 [==============================] - 0s 8ms/step - loss: 0.1616\n",
      "Epoch 19/75\n",
      "1/1 [==============================] - 0s 5ms/step - loss: 0.1532\n",
      "Epoch 20/75\n",
      "1/1 [==============================] - 0s 9ms/step - loss: 0.1498\n",
      "Epoch 21/75\n",
      "1/1 [==============================] - 0s 5ms/step - loss: 0.1459\n",
      "Epoch 22/75\n",
      "1/1 [==============================] - 0s 6ms/step - loss: 0.1378\n",
      "Epoch 23/75\n",
      "1/1 [==============================] - 0s 8ms/step - loss: 0.1162\n",
      "Epoch 24/75\n",
      "1/1 [==============================] - 0s 7ms/step - loss: 0.1256\n",
      "Epoch 25/75\n",
      "1/1 [==============================] - 0s 9ms/step - loss: 0.1184\n",
      "Epoch 26/75\n",
      "1/1 [==============================] - 0s 5ms/step - loss: 0.1017\n",
      "Epoch 27/75\n",
      "1/1 [==============================] - 0s 9ms/step - loss: 0.0940\n",
      "Epoch 28/75\n",
      "1/1 [==============================] - 0s 5ms/step - loss: 0.1048\n",
      "Epoch 29/75\n",
      "1/1 [==============================] - 0s 9ms/step - loss: 0.0844\n",
      "Epoch 30/75\n",
      "1/1 [==============================] - 0s 6ms/step - loss: 0.0826\n",
      "Epoch 31/75\n",
      "1/1 [==============================] - 0s 12ms/step - loss: 0.0853\n",
      "Epoch 32/75\n",
      "1/1 [==============================] - 0s 5ms/step - loss: 0.0751\n",
      "Epoch 33/75\n",
      "1/1 [==============================] - 0s 8ms/step - loss: 0.0654\n",
      "Epoch 34/75\n",
      "1/1 [==============================] - 0s 5ms/step - loss: 0.0831\n",
      "Epoch 35/75\n",
      "1/1 [==============================] - 0s 11ms/step - loss: 0.0669\n",
      "Epoch 36/75\n",
      "1/1 [==============================] - 0s 10ms/step - loss: 0.0789\n",
      "Epoch 37/75\n",
      "1/1 [==============================] - 0s 5ms/step - loss: 0.0931\n",
      "Epoch 38/75\n",
      "1/1 [==============================] - 0s 8ms/step - loss: 0.0810\n",
      "Epoch 39/75\n",
      "1/1 [==============================] - 0s 5ms/step - loss: 0.0653\n",
      "Epoch 40/75\n",
      "1/1 [==============================] - 0s 9ms/step - loss: 0.0881\n",
      "Epoch 41/75\n",
      "1/1 [==============================] - 0s 5ms/step - loss: 0.0638\n",
      "Epoch 42/75\n",
      "1/1 [==============================] - 0s 5ms/step - loss: 0.0608\n",
      "Epoch 43/75\n",
      "1/1 [==============================] - 0s 9ms/step - loss: 0.0825\n",
      "Epoch 44/75\n",
      "1/1 [==============================] - 0s 10ms/step - loss: 0.0727\n",
      "Epoch 45/75\n",
      "1/1 [==============================] - 0s 6ms/step - loss: 0.0655\n",
      "Epoch 46/75\n",
      "1/1 [==============================] - 0s 9ms/step - loss: 0.0768\n",
      "Epoch 47/75\n",
      "1/1 [==============================] - 0s 8ms/step - loss: 0.0738\n",
      "Epoch 48/75\n",
      "1/1 [==============================] - 0s 5ms/step - loss: 0.0734\n",
      "Epoch 49/75\n",
      "1/1 [==============================] - 0s 9ms/step - loss: 0.0592\n",
      "Epoch 50/75\n",
      "1/1 [==============================] - 0s 6ms/step - loss: 0.0791\n",
      "Epoch 51/75\n",
      "1/1 [==============================] - 0s 9ms/step - loss: 0.0661\n",
      "Epoch 52/75\n",
      "1/1 [==============================] - 0s 5ms/step - loss: 0.0601\n",
      "Epoch 53/75\n",
      "1/1 [==============================] - 0s 9ms/step - loss: 0.0610\n",
      "Epoch 54/75\n",
      "1/1 [==============================] - 0s 7ms/step - loss: 0.0785\n",
      "Epoch 55/75\n",
      "1/1 [==============================] - 0s 6ms/step - loss: 0.0642\n",
      "Epoch 56/75\n",
      "1/1 [==============================] - 0s 5ms/step - loss: 0.0749\n",
      "Epoch 57/75\n",
      "1/1 [==============================] - 0s 7ms/step - loss: 0.0566\n",
      "Epoch 58/75\n",
      "1/1 [==============================] - 0s 10ms/step - loss: 0.0640\n",
      "Epoch 59/75\n",
      "1/1 [==============================] - 0s 5ms/step - loss: 0.0480\n",
      "Epoch 60/75\n",
      "1/1 [==============================] - 0s 9ms/step - loss: 0.0428\n",
      "Epoch 61/75\n",
      "1/1 [==============================] - 0s 6ms/step - loss: 0.0609\n",
      "Epoch 62/75\n",
      "1/1 [==============================] - 0s 10ms/step - loss: 0.0773\n",
      "Epoch 63/75\n",
      "1/1 [==============================] - 0s 6ms/step - loss: 0.0503\n",
      "Epoch 64/75\n",
      "1/1 [==============================] - 0s 9ms/step - loss: 0.0511\n",
      "Epoch 65/75\n",
      "1/1 [==============================] - 0s 13ms/step - loss: 0.0671\n",
      "Epoch 66/75\n",
      "1/1 [==============================] - 0s 6ms/step - loss: 0.0478\n",
      "Epoch 67/75\n",
      "1/1 [==============================] - 0s 10ms/step - loss: 0.0713\n",
      "Epoch 68/75\n",
      "1/1 [==============================] - 0s 12ms/step - loss: 0.0629\n",
      "Epoch 69/75\n",
      "1/1 [==============================] - 0s 12ms/step - loss: 0.0543\n",
      "Epoch 70/75\n",
      "1/1 [==============================] - 0s 8ms/step - loss: 0.0666\n",
      "Epoch 71/75\n",
      "1/1 [==============================] - 0s 11ms/step - loss: 0.0444\n",
      "Epoch 72/75\n",
      "1/1 [==============================] - 0s 6ms/step - loss: 0.0591\n",
      "Epoch 73/75\n",
      "1/1 [==============================] - 0s 8ms/step - loss: 0.0470\n",
      "Epoch 74/75\n",
      "1/1 [==============================] - 0s 10ms/step - loss: 0.0298\n",
      "Epoch 75/75\n",
      "1/1 [==============================] - 0s 5ms/step - loss: 0.0505\n"
     ]
    },
    {
     "data": {
      "text/plain": [
       "<keras.callbacks.History at 0x229865e70c8>"
      ]
     },
     "execution_count": 127,
     "metadata": {},
     "output_type": "execute_result"
    }
   ],
   "source": [
    "model.fit(X_train_scaled, y_train_scaled, epochs=75, shuffle=False, batch_size=19, verbose=1)"
   ]
  },
  {
   "cell_type": "code",
   "execution_count": 128,
   "metadata": {},
   "outputs": [
    {
     "data": {
      "text/plain": [
       "0.2928015887737274"
      ]
     },
     "execution_count": 128,
     "metadata": {},
     "output_type": "execute_result"
    }
   ],
   "source": [
    "model.evaluate(X_test_scaled, y_test_scaled, verbose=0)"
   ]
  },
  {
   "cell_type": "code",
   "execution_count": 129,
   "metadata": {},
   "outputs": [
    {
     "name": "stdout",
     "output_type": "stream",
     "text": [
      "1/1 [==============================] - 1s 1s/step\n",
      "1/1 [==============================] - 0s 20ms/step\n"
     ]
    },
    {
     "data": {
      "text/plain": [
       "array([[0.3160788 ],\n",
       "       [0.340132  ],\n",
       "       [0.3319504 ],\n",
       "       [0.3298431 ],\n",
       "       [0.3453817 ],\n",
       "       [0.36924818],\n",
       "       [0.38671562],\n",
       "       [0.41237378],\n",
       "       [0.4472573 ],\n",
       "       [0.49675217],\n",
       "       [0.4800209 ],\n",
       "       [0.45692036],\n",
       "       [0.47150883],\n",
       "       [0.49087209],\n",
       "       [0.50029993],\n",
       "       [0.51666945],\n",
       "       [0.63503915],\n",
       "       [0.7042454 ],\n",
       "       [0.77426285],\n",
       "       [0.82924145],\n",
       "       [0.86884296],\n",
       "       [0.8266111 ],\n",
       "       [0.8142049 ],\n",
       "       [0.76904047],\n",
       "       [0.72101504],\n",
       "       [0.8077752 ],\n",
       "       [1.0162997 ],\n",
       "       [1.0244293 ]], dtype=float32)"
      ]
     },
     "execution_count": 129,
     "metadata": {},
     "output_type": "execute_result"
    }
   ],
   "source": [
    "predicted = model.predict(X_train_scaled)\n",
    "predicted = np.concatenate((predicted, model.predict(X_test_scaled)))\n",
    "predicted"
   ]
  },
  {
   "cell_type": "code",
   "execution_count": 130,
   "metadata": {},
   "outputs": [],
   "source": [
    "predicted_fraud_reports = scaler.inverse_transform(predicted)\n"
   ]
  },
  {
   "cell_type": "code",
   "execution_count": 131,
   "metadata": {},
   "outputs": [
    {
     "data": {
      "text/html": [
       "<div>\n",
       "<style scoped>\n",
       "    .dataframe tbody tr th:only-of-type {\n",
       "        vertical-align: middle;\n",
       "    }\n",
       "\n",
       "    .dataframe tbody tr th {\n",
       "        vertical-align: top;\n",
       "    }\n",
       "\n",
       "    .dataframe thead th {\n",
       "        text-align: right;\n",
       "    }\n",
       "</style>\n",
       "<table border=\"1\" class=\"dataframe\">\n",
       "  <thead>\n",
       "    <tr style=\"text-align: right;\">\n",
       "      <th></th>\n",
       "      <th>Actual</th>\n",
       "      <th>Predicted</th>\n",
       "    </tr>\n",
       "    <tr>\n",
       "      <th>Year</th>\n",
       "      <th></th>\n",
       "      <th></th>\n",
       "    </tr>\n",
       "  </thead>\n",
       "  <tbody>\n",
       "    <tr>\n",
       "      <th>2015</th>\n",
       "      <td>90566</td>\n",
       "      <td>120831.179688</td>\n",
       "    </tr>\n",
       "    <tr>\n",
       "      <th>2015</th>\n",
       "      <td>96365</td>\n",
       "      <td>123134.320312</td>\n",
       "    </tr>\n",
       "    <tr>\n",
       "      <th>2015</th>\n",
       "      <td>101745</td>\n",
       "      <td>122350.906250</td>\n",
       "    </tr>\n",
       "    <tr>\n",
       "      <th>2015</th>\n",
       "      <td>105491</td>\n",
       "      <td>122149.132812</td>\n",
       "    </tr>\n",
       "    <tr>\n",
       "      <th>2016</th>\n",
       "      <td>108801</td>\n",
       "      <td>123636.984375</td>\n",
       "    </tr>\n",
       "  </tbody>\n",
       "</table>\n",
       "</div>"
      ],
      "text/plain": [
       "      Actual      Predicted\n",
       "Year                       \n",
       "2015   90566  120831.179688\n",
       "2015   96365  123134.320312\n",
       "2015  101745  122350.906250\n",
       "2015  105491  122149.132812\n",
       "2016  108801  123636.984375"
      ]
     },
     "execution_count": 131,
     "metadata": {},
     "output_type": "execute_result"
    }
   ],
   "source": [
    "fraud_results = pd.DataFrame({\n",
    "    \"Actual\": fraud_reporting ['Fraud Reporting Count'].iloc[4:],\n",
    "    \"Predicted\": predicted_fraud_reports.ravel()\n",
    "}, index = fraud_reporting.iloc[4:].index) \n",
    "\n",
    "# Show the DataFrame's head\n",
    "fraud_results.head()"
   ]
  },
  {
   "cell_type": "code",
   "execution_count": 132,
   "metadata": {},
   "outputs": [
    {
     "data": {
      "text/plain": [
       "<AxesSubplot:xlabel='Year'>"
      ]
     },
     "execution_count": 132,
     "metadata": {},
     "output_type": "execute_result"
    },
    {
     "data": {
      "image/png": "[encoded data removed]",
      "text/plain": [
       "<Figure size 432x288 with 1 Axes>"
      ]
     },
     "metadata": {
      "needs_background": "light"
     },
     "output_type": "display_data"
    }
   ],
   "source": [
    "fraud_results.plot()"
   ]
  },
  {
   "cell_type": "code",
   "execution_count": 134,
   "metadata": {},
   "outputs": [
    {
     "name": "stdout",
     "output_type": "stream",
     "text": [
      "r2_score: 0.56\n"
     ]
    }
   ],
   "source": [
    "from sklearn.metrics import r2_score, explained_variance_score\n",
    "\n",
    "print(\"r2_score: %.2f\" % (r2_score(fraud_reporting[\"Fraud Reporting Count\"].iloc[4:].values, predicted_fraud_reports))) #1 is best"
   ]
  }
 ],
 "metadata": {
  "kernelspec": {
   "display_name": "Python 3.7.11 ('dev')",
   "language": "python",
   "name": "python3"
  },
  "language_info": {
   "codemirror_mode": {
    "name": "ipython",
    "version": 3
   },
   "file_extension": ".py",
   "mimetype": "text/x-python",
   "name": "python",
   "nbconvert_exporter": "python",
   "pygments_lexer": "ipython3",
   "version": "3.7.11"
  },
  "orig_nbformat": 4,
  "vscode": {
   "interpreter": {
    "hash": "84823099e314c3f86caf21052ad9be025dc5c0efa0e9447fea07a785397463e8"
   }
  }
 },
 "nbformat": 4,
 "nbformat_minor": 2
}
