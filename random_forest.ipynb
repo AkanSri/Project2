{
 "cells": [
  {
   "cell_type": "markdown",
   "metadata": {},
   "source": [
    "Code for Random Forest"
   ]
  }
 ],
 "metadata": {
  "kernelspec": {
   "display_name": "Python 3.9.7 ('base')",
   "language": "python",
   "name": "python3"
  },
  "language_info": {
   "name": "python",
   "version": "3.9.7"
  },
  "orig_nbformat": 4,
  "vscode": {
   "interpreter": {
    "hash": "e475e67c7be2a14753aab92f1dd21bb466aaa74f28de38f9d18258958f2b3894"
   }
  }
 },
 "nbformat": 4,
 "nbformat_minor": 2
}
