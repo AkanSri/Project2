{
 "cells": [
  {
   "cell_type": "markdown",
   "metadata": {},
   "source": [
    "# Preprocessing the Data"
   ]
  },
  {
   "cell_type": "code",
   "execution_count": 264,
   "metadata": {},
   "outputs": [],
   "source": [
    "# Initial imports\n",
    "import pandas as pd\n",
    "from pathlib import Path\n",
    "from sklearn.ensemble import RandomForestRegressor\n",
    "from sklearn.preprocessing import StandardScaler\n",
    "from sklearn.model_selection import train_test_split\n",
    "from sklearn.metrics import confusion_matrix, accuracy_score, classification_report\n",
    "%matplotlib inline\n",
    "import numpy as np\n"
   ]
  },
  {
   "cell_type": "code",
   "execution_count": 265,
   "metadata": {},
   "outputs": [
    {
     "data": {
      "text/html": [
       "<div>\n",
       "<style scoped>\n",
       "    .dataframe tbody tr th:only-of-type {\n",
       "        vertical-align: middle;\n",
       "    }\n",
       "\n",
       "    .dataframe tbody tr th {\n",
       "        vertical-align: top;\n",
       "    }\n",
       "\n",
       "    .dataframe thead th {\n",
       "        text-align: right;\n",
       "    }\n",
       "</style>\n",
       "<table border=\"1\" class=\"dataframe\">\n",
       "  <thead>\n",
       "    <tr style=\"text-align: right;\">\n",
       "      <th></th>\n",
       "      <th>Quarter</th>\n",
       "      <th>Fraud Reporting Count</th>\n",
       "      <th>Net Operating Income(Billions)</th>\n",
       "      <th>Lagged Fraud Reporting Count</th>\n",
       "      <th>Lagged Net Operating Income(Billions)</th>\n",
       "    </tr>\n",
       "    <tr>\n",
       "      <th>Year</th>\n",
       "      <th></th>\n",
       "      <th></th>\n",
       "      <th></th>\n",
       "      <th></th>\n",
       "      <th></th>\n",
       "    </tr>\n",
       "  </thead>\n",
       "  <tbody>\n",
       "    <tr>\n",
       "      <th>2014</th>\n",
       "      <td>1</td>\n",
       "      <td>82364</td>\n",
       "      <td>36.8</td>\n",
       "      <td>NaN</td>\n",
       "      <td>NaN</td>\n",
       "    </tr>\n",
       "    <tr>\n",
       "      <th>2014</th>\n",
       "      <td>2</td>\n",
       "      <td>95516</td>\n",
       "      <td>39.8</td>\n",
       "      <td>82364.0</td>\n",
       "      <td>36.8</td>\n",
       "    </tr>\n",
       "    <tr>\n",
       "      <th>2014</th>\n",
       "      <td>3</td>\n",
       "      <td>94084</td>\n",
       "      <td>38.1</td>\n",
       "      <td>95516.0</td>\n",
       "      <td>39.8</td>\n",
       "    </tr>\n",
       "    <tr>\n",
       "      <th>2014</th>\n",
       "      <td>4</td>\n",
       "      <td>90868</td>\n",
       "      <td>36.0</td>\n",
       "      <td>94084.0</td>\n",
       "      <td>38.1</td>\n",
       "    </tr>\n",
       "    <tr>\n",
       "      <th>2015</th>\n",
       "      <td>1</td>\n",
       "      <td>90566</td>\n",
       "      <td>39.0</td>\n",
       "      <td>90868.0</td>\n",
       "      <td>36.0</td>\n",
       "    </tr>\n",
       "  </tbody>\n",
       "</table>\n",
       "</div>"
      ],
      "text/plain": [
       "      Quarter  Fraud Reporting Count  Net Operating Income(Billions)  \\\n",
       "Year                                                                   \n",
       "2014        1                  82364                            36.8   \n",
       "2014        2                  95516                            39.8   \n",
       "2014        3                  94084                            38.1   \n",
       "2014        4                  90868                            36.0   \n",
       "2015        1                  90566                            39.0   \n",
       "\n",
       "      Lagged Fraud Reporting Count  Lagged Net Operating Income(Billions)  \n",
       "Year                                                                       \n",
       "2014                           NaN                                    NaN  \n",
       "2014                       82364.0                                   36.8  \n",
       "2014                       95516.0                                   39.8  \n",
       "2014                       94084.0                                   38.1  \n",
       "2015                       90868.0                                   36.0  "
      ]
     },
     "execution_count": 265,
     "metadata": {},
     "output_type": "execute_result"
    }
   ],
   "source": [
    "# Loading data\n",
    "file_path = Path(\"Resources/combined_data.csv\")\n",
    "combined_df = pd.read_csv(file_path, index_col='Year')\n",
    "combined_df.head()"
   ]
  },
  {
   "cell_type": "code",
   "execution_count": 266,
   "metadata": {},
   "outputs": [
    {
     "data": {
      "text/html": [
       "<div>\n",
       "<style scoped>\n",
       "    .dataframe tbody tr th:only-of-type {\n",
       "        vertical-align: middle;\n",
       "    }\n",
       "\n",
       "    .dataframe tbody tr th {\n",
       "        vertical-align: top;\n",
       "    }\n",
       "\n",
       "    .dataframe thead th {\n",
       "        text-align: right;\n",
       "    }\n",
       "</style>\n",
       "<table border=\"1\" class=\"dataframe\">\n",
       "  <thead>\n",
       "    <tr style=\"text-align: right;\">\n",
       "      <th></th>\n",
       "      <th>Quarter</th>\n",
       "      <th>Fraud Reporting Count</th>\n",
       "      <th>Net Operating Income(Billions)</th>\n",
       "      <th>Lagged Fraud Reporting Count</th>\n",
       "      <th>Lagged Net Operating Income(Billions)</th>\n",
       "    </tr>\n",
       "    <tr>\n",
       "      <th>Year</th>\n",
       "      <th></th>\n",
       "      <th></th>\n",
       "      <th></th>\n",
       "      <th></th>\n",
       "      <th></th>\n",
       "    </tr>\n",
       "  </thead>\n",
       "  <tbody>\n",
       "    <tr>\n",
       "      <th>2014</th>\n",
       "      <td>2</td>\n",
       "      <td>95516</td>\n",
       "      <td>39.8</td>\n",
       "      <td>82364.0</td>\n",
       "      <td>36.8</td>\n",
       "    </tr>\n",
       "    <tr>\n",
       "      <th>2014</th>\n",
       "      <td>3</td>\n",
       "      <td>94084</td>\n",
       "      <td>38.1</td>\n",
       "      <td>95516.0</td>\n",
       "      <td>39.8</td>\n",
       "    </tr>\n",
       "    <tr>\n",
       "      <th>2014</th>\n",
       "      <td>4</td>\n",
       "      <td>90868</td>\n",
       "      <td>36.0</td>\n",
       "      <td>94084.0</td>\n",
       "      <td>38.1</td>\n",
       "    </tr>\n",
       "    <tr>\n",
       "      <th>2015</th>\n",
       "      <td>1</td>\n",
       "      <td>90566</td>\n",
       "      <td>39.0</td>\n",
       "      <td>90868.0</td>\n",
       "      <td>36.0</td>\n",
       "    </tr>\n",
       "    <tr>\n",
       "      <th>2015</th>\n",
       "      <td>2</td>\n",
       "      <td>96365</td>\n",
       "      <td>42.6</td>\n",
       "      <td>90566.0</td>\n",
       "      <td>39.0</td>\n",
       "    </tr>\n",
       "    <tr>\n",
       "      <th>2015</th>\n",
       "      <td>3</td>\n",
       "      <td>101745</td>\n",
       "      <td>40.0</td>\n",
       "      <td>96365.0</td>\n",
       "      <td>42.6</td>\n",
       "    </tr>\n",
       "    <tr>\n",
       "      <th>2015</th>\n",
       "      <td>4</td>\n",
       "      <td>105491</td>\n",
       "      <td>40.1</td>\n",
       "      <td>101745.0</td>\n",
       "      <td>40.0</td>\n",
       "    </tr>\n",
       "    <tr>\n",
       "      <th>2016</th>\n",
       "      <td>1</td>\n",
       "      <td>108801</td>\n",
       "      <td>38.4</td>\n",
       "      <td>105491.0</td>\n",
       "      <td>40.1</td>\n",
       "    </tr>\n",
       "    <tr>\n",
       "      <th>2016</th>\n",
       "      <td>2</td>\n",
       "      <td>128668</td>\n",
       "      <td>42.9</td>\n",
       "      <td>108801.0</td>\n",
       "      <td>38.4</td>\n",
       "    </tr>\n",
       "    <tr>\n",
       "      <th>2016</th>\n",
       "      <td>3</td>\n",
       "      <td>126907</td>\n",
       "      <td>45.1</td>\n",
       "      <td>128668.0</td>\n",
       "      <td>42.9</td>\n",
       "    </tr>\n",
       "    <tr>\n",
       "      <th>2016</th>\n",
       "      <td>4</td>\n",
       "      <td>115900</td>\n",
       "      <td>42.8</td>\n",
       "      <td>126907.0</td>\n",
       "      <td>45.1</td>\n",
       "    </tr>\n",
       "    <tr>\n",
       "      <th>2017</th>\n",
       "      <td>1</td>\n",
       "      <td>117009</td>\n",
       "      <td>43.5</td>\n",
       "      <td>115900.0</td>\n",
       "      <td>42.8</td>\n",
       "    </tr>\n",
       "    <tr>\n",
       "      <th>2017</th>\n",
       "      <td>2</td>\n",
       "      <td>121347</td>\n",
       "      <td>47.6</td>\n",
       "      <td>117009.0</td>\n",
       "      <td>43.5</td>\n",
       "    </tr>\n",
       "    <tr>\n",
       "      <th>2017</th>\n",
       "      <td>3</td>\n",
       "      <td>125990</td>\n",
       "      <td>47.3</td>\n",
       "      <td>121347.0</td>\n",
       "      <td>47.6</td>\n",
       "    </tr>\n",
       "    <tr>\n",
       "      <th>2017</th>\n",
       "      <td>4</td>\n",
       "      <td>125829</td>\n",
       "      <td>25.5</td>\n",
       "      <td>125990.0</td>\n",
       "      <td>47.3</td>\n",
       "    </tr>\n",
       "    <tr>\n",
       "      <th>2018</th>\n",
       "      <td>1</td>\n",
       "      <td>132985</td>\n",
       "      <td>55.7</td>\n",
       "      <td>125829.0</td>\n",
       "      <td>25.5</td>\n",
       "    </tr>\n",
       "    <tr>\n",
       "      <th>2018</th>\n",
       "      <td>2</td>\n",
       "      <td>140769</td>\n",
       "      <td>60.2</td>\n",
       "      <td>132985.0</td>\n",
       "      <td>55.7</td>\n",
       "    </tr>\n",
       "    <tr>\n",
       "      <th>2018</th>\n",
       "      <td>3</td>\n",
       "      <td>152955</td>\n",
       "      <td>61.9</td>\n",
       "      <td>140769.0</td>\n",
       "      <td>60.2</td>\n",
       "    </tr>\n",
       "    <tr>\n",
       "      <th>2018</th>\n",
       "      <td>4</td>\n",
       "      <td>165279</td>\n",
       "      <td>59.7</td>\n",
       "      <td>152955.0</td>\n",
       "      <td>61.9</td>\n",
       "    </tr>\n",
       "    <tr>\n",
       "      <th>2019</th>\n",
       "      <td>1</td>\n",
       "      <td>186318</td>\n",
       "      <td>60.1</td>\n",
       "      <td>165279.0</td>\n",
       "      <td>59.7</td>\n",
       "    </tr>\n",
       "    <tr>\n",
       "      <th>2019</th>\n",
       "      <td>2</td>\n",
       "      <td>169526</td>\n",
       "      <td>61.5</td>\n",
       "      <td>186318.0</td>\n",
       "      <td>60.1</td>\n",
       "    </tr>\n",
       "    <tr>\n",
       "      <th>2019</th>\n",
       "      <td>3</td>\n",
       "      <td>177728</td>\n",
       "      <td>58.2</td>\n",
       "      <td>169526.0</td>\n",
       "      <td>61.5</td>\n",
       "    </tr>\n",
       "    <tr>\n",
       "      <th>2019</th>\n",
       "      <td>4</td>\n",
       "      <td>185082</td>\n",
       "      <td>52.6</td>\n",
       "      <td>177728.0</td>\n",
       "      <td>58.2</td>\n",
       "    </tr>\n",
       "    <tr>\n",
       "      <th>2020</th>\n",
       "      <td>1</td>\n",
       "      <td>189439</td>\n",
       "      <td>17.1</td>\n",
       "      <td>185082.0</td>\n",
       "      <td>52.6</td>\n",
       "    </tr>\n",
       "    <tr>\n",
       "      <th>2020</th>\n",
       "      <td>2</td>\n",
       "      <td>176864</td>\n",
       "      <td>16.4</td>\n",
       "      <td>189439.0</td>\n",
       "      <td>17.1</td>\n",
       "    </tr>\n",
       "    <tr>\n",
       "      <th>2020</th>\n",
       "      <td>3</td>\n",
       "      <td>224264</td>\n",
       "      <td>49.3</td>\n",
       "      <td>176864.0</td>\n",
       "      <td>16.4</td>\n",
       "    </tr>\n",
       "    <tr>\n",
       "      <th>2020</th>\n",
       "      <td>4</td>\n",
       "      <td>202986</td>\n",
       "      <td>58.1</td>\n",
       "      <td>224264.0</td>\n",
       "      <td>49.3</td>\n",
       "    </tr>\n",
       "    <tr>\n",
       "      <th>2021</th>\n",
       "      <td>1</td>\n",
       "      <td>201403</td>\n",
       "      <td>75.7</td>\n",
       "      <td>202986.0</td>\n",
       "      <td>58.1</td>\n",
       "    </tr>\n",
       "    <tr>\n",
       "      <th>2021</th>\n",
       "      <td>2</td>\n",
       "      <td>231668</td>\n",
       "      <td>69.8</td>\n",
       "      <td>201403.0</td>\n",
       "      <td>75.7</td>\n",
       "    </tr>\n",
       "    <tr>\n",
       "      <th>2021</th>\n",
       "      <td>3</td>\n",
       "      <td>273794</td>\n",
       "      <td>69.3</td>\n",
       "      <td>231668.0</td>\n",
       "      <td>69.8</td>\n",
       "    </tr>\n",
       "    <tr>\n",
       "      <th>2021</th>\n",
       "      <td>4</td>\n",
       "      <td>265021</td>\n",
       "      <td>63.4</td>\n",
       "      <td>273794.0</td>\n",
       "      <td>69.3</td>\n",
       "    </tr>\n",
       "  </tbody>\n",
       "</table>\n",
       "</div>"
      ],
      "text/plain": [
       "      Quarter  Fraud Reporting Count  Net Operating Income(Billions)  \\\n",
       "Year                                                                   \n",
       "2014        2                  95516                            39.8   \n",
       "2014        3                  94084                            38.1   \n",
       "2014        4                  90868                            36.0   \n",
       "2015        1                  90566                            39.0   \n",
       "2015        2                  96365                            42.6   \n",
       "2015        3                 101745                            40.0   \n",
       "2015        4                 105491                            40.1   \n",
       "2016        1                 108801                            38.4   \n",
       "2016        2                 128668                            42.9   \n",
       "2016        3                 126907                            45.1   \n",
       "2016        4                 115900                            42.8   \n",
       "2017        1                 117009                            43.5   \n",
       "2017        2                 121347                            47.6   \n",
       "2017        3                 125990                            47.3   \n",
       "2017        4                 125829                            25.5   \n",
       "2018        1                 132985                            55.7   \n",
       "2018        2                 140769                            60.2   \n",
       "2018        3                 152955                            61.9   \n",
       "2018        4                 165279                            59.7   \n",
       "2019        1                 186318                            60.1   \n",
       "2019        2                 169526                            61.5   \n",
       "2019        3                 177728                            58.2   \n",
       "2019        4                 185082                            52.6   \n",
       "2020        1                 189439                            17.1   \n",
       "2020        2                 176864                            16.4   \n",
       "2020        3                 224264                            49.3   \n",
       "2020        4                 202986                            58.1   \n",
       "2021        1                 201403                            75.7   \n",
       "2021        2                 231668                            69.8   \n",
       "2021        3                 273794                            69.3   \n",
       "2021        4                 265021                            63.4   \n",
       "\n",
       "      Lagged Fraud Reporting Count  Lagged Net Operating Income(Billions)  \n",
       "Year                                                                       \n",
       "2014                       82364.0                                   36.8  \n",
       "2014                       95516.0                                   39.8  \n",
       "2014                       94084.0                                   38.1  \n",
       "2015                       90868.0                                   36.0  \n",
       "2015                       90566.0                                   39.0  \n",
       "2015                       96365.0                                   42.6  \n",
       "2015                      101745.0                                   40.0  \n",
       "2016                      105491.0                                   40.1  \n",
       "2016                      108801.0                                   38.4  \n",
       "2016                      128668.0                                   42.9  \n",
       "2016                      126907.0                                   45.1  \n",
       "2017                      115900.0                                   42.8  \n",
       "2017                      117009.0                                   43.5  \n",
       "2017                      121347.0                                   47.6  \n",
       "2017                      125990.0                                   47.3  \n",
       "2018                      125829.0                                   25.5  \n",
       "2018                      132985.0                                   55.7  \n",
       "2018                      140769.0                                   60.2  \n",
       "2018                      152955.0                                   61.9  \n",
       "2019                      165279.0                                   59.7  \n",
       "2019                      186318.0                                   60.1  \n",
       "2019                      169526.0                                   61.5  \n",
       "2019                      177728.0                                   58.2  \n",
       "2020                      185082.0                                   52.6  \n",
       "2020                      189439.0                                   17.1  \n",
       "2020                      176864.0                                   16.4  \n",
       "2020                      224264.0                                   49.3  \n",
       "2021                      202986.0                                   58.1  \n",
       "2021                      201403.0                                   75.7  \n",
       "2021                      231668.0                                   69.8  \n",
       "2021                      273794.0                                   69.3  "
      ]
     },
     "execution_count": 266,
     "metadata": {},
     "output_type": "execute_result"
    }
   ],
   "source": [
    "combined_df.dropna(inplace=True)\n",
    "combined_df"
   ]
  },
  {
   "cell_type": "code",
   "execution_count": 267,
   "metadata": {},
   "outputs": [
    {
     "data": {
      "text/html": [
       "<div>\n",
       "<style scoped>\n",
       "    .dataframe tbody tr th:only-of-type {\n",
       "        vertical-align: middle;\n",
       "    }\n",
       "\n",
       "    .dataframe tbody tr th {\n",
       "        vertical-align: top;\n",
       "    }\n",
       "\n",
       "    .dataframe thead th {\n",
       "        text-align: right;\n",
       "    }\n",
       "</style>\n",
       "<table border=\"1\" class=\"dataframe\">\n",
       "  <thead>\n",
       "    <tr style=\"text-align: right;\">\n",
       "      <th></th>\n",
       "      <th>Net Operating Income(Billions)</th>\n",
       "      <th>Lagged Fraud Reporting Count</th>\n",
       "    </tr>\n",
       "    <tr>\n",
       "      <th>Year</th>\n",
       "      <th></th>\n",
       "      <th></th>\n",
       "    </tr>\n",
       "  </thead>\n",
       "  <tbody>\n",
       "    <tr>\n",
       "      <th>2014</th>\n",
       "      <td>39.8</td>\n",
       "      <td>82364.0</td>\n",
       "    </tr>\n",
       "    <tr>\n",
       "      <th>2014</th>\n",
       "      <td>38.1</td>\n",
       "      <td>95516.0</td>\n",
       "    </tr>\n",
       "    <tr>\n",
       "      <th>2014</th>\n",
       "      <td>36.0</td>\n",
       "      <td>94084.0</td>\n",
       "    </tr>\n",
       "    <tr>\n",
       "      <th>2015</th>\n",
       "      <td>39.0</td>\n",
       "      <td>90868.0</td>\n",
       "    </tr>\n",
       "    <tr>\n",
       "      <th>2015</th>\n",
       "      <td>42.6</td>\n",
       "      <td>90566.0</td>\n",
       "    </tr>\n",
       "  </tbody>\n",
       "</table>\n",
       "</div>"
      ],
      "text/plain": [
       "      Net Operating Income(Billions)  Lagged Fraud Reporting Count\n",
       "Year                                                              \n",
       "2014                            39.8                       82364.0\n",
       "2014                            38.1                       95516.0\n",
       "2014                            36.0                       94084.0\n",
       "2015                            39.0                       90868.0\n",
       "2015                            42.6                       90566.0"
      ]
     },
     "metadata": {},
     "output_type": "display_data"
    },
    {
     "data": {
      "text/html": [
       "<div>\n",
       "<style scoped>\n",
       "    .dataframe tbody tr th:only-of-type {\n",
       "        vertical-align: middle;\n",
       "    }\n",
       "\n",
       "    .dataframe tbody tr th {\n",
       "        vertical-align: top;\n",
       "    }\n",
       "\n",
       "    .dataframe thead th {\n",
       "        text-align: right;\n",
       "    }\n",
       "</style>\n",
       "<table border=\"1\" class=\"dataframe\">\n",
       "  <thead>\n",
       "    <tr style=\"text-align: right;\">\n",
       "      <th></th>\n",
       "      <th>Fraud Reporting Count</th>\n",
       "    </tr>\n",
       "    <tr>\n",
       "      <th>Year</th>\n",
       "      <th></th>\n",
       "    </tr>\n",
       "  </thead>\n",
       "  <tbody>\n",
       "    <tr>\n",
       "      <th>2014</th>\n",
       "      <td>95516</td>\n",
       "    </tr>\n",
       "    <tr>\n",
       "      <th>2014</th>\n",
       "      <td>94084</td>\n",
       "    </tr>\n",
       "    <tr>\n",
       "      <th>2014</th>\n",
       "      <td>90868</td>\n",
       "    </tr>\n",
       "    <tr>\n",
       "      <th>2015</th>\n",
       "      <td>90566</td>\n",
       "    </tr>\n",
       "    <tr>\n",
       "      <th>2015</th>\n",
       "      <td>96365</td>\n",
       "    </tr>\n",
       "  </tbody>\n",
       "</table>\n",
       "</div>"
      ],
      "text/plain": [
       "      Fraud Reporting Count\n",
       "Year                       \n",
       "2014                  95516\n",
       "2014                  94084\n",
       "2014                  90868\n",
       "2015                  90566\n",
       "2015                  96365"
      ]
     },
     "metadata": {},
     "output_type": "display_data"
    }
   ],
   "source": [
    "# slice features and target\n",
    "x = combined_df.drop(columns=['Fraud Reporting Count', 'Quarter','Lagged Net Operating Income(Billions)'])\n",
    "y = combined_df[[\"Fraud Reporting Count\"]]\n",
    "display(x.head())\n",
    "display(y.head())"
   ]
  },
  {
   "cell_type": "code",
   "execution_count": 268,
   "metadata": {},
   "outputs": [
    {
     "data": {
      "text/plain": [
       "(23, 2)"
      ]
     },
     "execution_count": 268,
     "metadata": {},
     "output_type": "execute_result"
    }
   ],
   "source": [
    "#Slicing data into train and test subsets\n",
    "x_train, x_test, y_train, y_test = train_test_split(x,y,shuffle=False ,random_state=1)\n",
    "x_train.shape"
   ]
  },
  {
   "cell_type": "code",
   "execution_count": 269,
   "metadata": {},
   "outputs": [],
   "source": [
    "#Scaling data\n",
    "scaler = StandardScaler()\n",
    "x_scaler = scaler.fit(x_train)\n",
    "x_train_scaled = x_scaler.transform(x_train)\n",
    "x_test_scaled = x_scaler.transform(x_test)\n",
    "\n"
   ]
  },
  {
   "cell_type": "code",
   "execution_count": 270,
   "metadata": {},
   "outputs": [
    {
     "data": {
      "text/plain": [
       "(23, 1)"
      ]
     },
     "execution_count": 270,
     "metadata": {},
     "output_type": "execute_result"
    }
   ],
   "source": [
    "y_train.shape"
   ]
  },
  {
   "cell_type": "code",
   "execution_count": 271,
   "metadata": {},
   "outputs": [
    {
     "data": {
      "text/plain": [
       "(8, 1)"
      ]
     },
     "execution_count": 271,
     "metadata": {},
     "output_type": "execute_result"
    }
   ],
   "source": [
    "y_test.shape"
   ]
  },
  {
   "cell_type": "code",
   "execution_count": 272,
   "metadata": {},
   "outputs": [],
   "source": [
    "#Scaling y data\n",
    "y_scaler = StandardScaler().fit(y_train)\n",
    "y_train_scaled = y_scaler.transform(y_train)\n",
    "y_test_scaled = y_scaler.transform(y_test)"
   ]
  },
  {
   "cell_type": "markdown",
   "metadata": {},
   "source": [
    "# Fitting the Random Forest Model"
   ]
  },
  {
   "cell_type": "code",
   "execution_count": 273,
   "metadata": {},
   "outputs": [],
   "source": [
    "# Create a random forest classifier\n",
    "rf_model = RandomForestRegressor(n_estimators=500, random_state=78)\n"
   ]
  },
  {
   "cell_type": "code",
   "execution_count": 274,
   "metadata": {},
   "outputs": [],
   "source": [
    "# Fitting the model\n",
    "rf_model = rf_model.fit(x_train_scaled, y_train_scaled.ravel())"
   ]
  },
  {
   "cell_type": "code",
   "execution_count": 275,
   "metadata": {},
   "outputs": [
    {
     "data": {
      "text/plain": [
       "array([0.21728314, 0.78271686])"
      ]
     },
     "execution_count": 275,
     "metadata": {},
     "output_type": "execute_result"
    }
   ],
   "source": [
    "rf_model.feature_importances_"
   ]
  },
  {
   "cell_type": "code",
   "execution_count": 276,
   "metadata": {},
   "outputs": [
    {
     "data": {
      "image/png": "[encoded data removed]",
      "text/plain": [
       "<Figure size 432x288 with 1 Axes>"
      ]
     },
     "metadata": {
      "needs_background": "light"
     },
     "output_type": "display_data"
    }
   ],
   "source": [
    "fig = pd.DataFrame(\n",
    "    {\n",
    "        \"Gini\":rf_model.feature_importances_,\n",
    "        \"feature\":x.columns\n",
    "    }\n",
    ").sort_values(by=\"Gini\", ascending=True).iloc[0:10].plot(kind='barh', color='lightgreen', title= 'Features Importances', legend=False, x=\"feature\").get_figure()\n",
    "fig.savefig('Resources/Images/RandomForestFeatureImportances.png',format='png')"
   ]
  },
  {
   "cell_type": "markdown",
   "metadata": {},
   "source": [
    "## Making Predictions Using the Random Forest Model"
   ]
  },
  {
   "cell_type": "code",
   "execution_count": 277,
   "metadata": {},
   "outputs": [
    {
     "data": {
      "text/plain": [
       "array([-1.1005126 , -1.09276358, -1.18118148, -1.19194113, -1.03869659,\n",
       "       -0.96821577, -0.77742607, -0.57660056, -0.23530317, -0.13221106,\n",
       "       -0.28951989, -0.30027277, -0.21799835, -0.13177282, -0.23721692,\n",
       "        0.1993627 ,  0.39938129,  0.70476109,  1.29410398,  1.70050333,\n",
       "        1.4186701 ,  1.64487887,  1.59790616,  1.2548956 ,  1.2548956 ,\n",
       "        1.39010386,  1.6307734 ,  1.37691538,  1.37691538,  1.37691538,\n",
       "        1.37691538])"
      ]
     },
     "execution_count": 277,
     "metadata": {},
     "output_type": "execute_result"
    }
   ],
   "source": [
    "# Making predictions using the testing data\n",
    "predictions = rf_model.predict(x_train_scaled)\n",
    "predicted = np.concatenate((predictions, rf_model.predict(x_test_scaled)))\n",
    "predicted\n"
   ]
  },
  {
   "cell_type": "code",
   "execution_count": 278,
   "metadata": {},
   "outputs": [
    {
     "data": {
      "text/plain": [
       "array([[ 95316.51 ],\n",
       "       [ 95550.234],\n",
       "       [ 92883.394],\n",
       "       [ 92558.864],\n",
       "       [ 97180.99 ],\n",
       "       [ 99306.816],\n",
       "       [105061.37 ],\n",
       "       [111118.622],\n",
       "       [121412.754],\n",
       "       [124522.194],\n",
       "       [119777.482],\n",
       "       [119453.156],\n",
       "       [121934.698],\n",
       "       [124535.412],\n",
       "       [121355.032],\n",
       "       [134523.044],\n",
       "       [140555.958],\n",
       "       [149766.752],\n",
       "       [167542.374],\n",
       "       [179800.096],\n",
       "       [171299.508],\n",
       "       [178122.364],\n",
       "       [176705.584],\n",
       "       [166359.78 ],\n",
       "       [166359.78 ],\n",
       "       [170437.9  ],\n",
       "       [177696.918],\n",
       "       [170040.112],\n",
       "       [170040.112],\n",
       "       [170040.112],\n",
       "       [170040.112]])"
      ]
     },
     "execution_count": 278,
     "metadata": {},
     "output_type": "execute_result"
    }
   ],
   "source": [
    "predicted_output = y_scaler.inverse_transform(predicted.reshape(-1, 1))\n",
    "predicted_output"
   ]
  },
  {
   "cell_type": "code",
   "execution_count": 279,
   "metadata": {},
   "outputs": [
    {
     "data": {
      "image/png": "[encoded data removed]",
      "text/plain": [
       "<Figure size 720x360 with 1 Axes>"
      ]
     },
     "metadata": {
      "needs_background": "light"
     },
     "output_type": "display_data"
    }
   ],
   "source": [
    "# Create a DataFrame of Real and Predicted values\n",
    "results = pd.DataFrame({\n",
    "    \"Real\": combined_df[\"Fraud Reporting Count\"],\n",
    "    \"Predicted\": predicted_output.ravel()\n",
    "}, index = combined_df.index) \n",
    "results.head()\n",
    "results_plot = results.plot(rot = 75,figsize=(10,5))\n",
    "fig = results_plot.get_figure()\n",
    "fig.savefig('Resources/Images/RannyRFOutputPlot.png',format='png')"
   ]
  },
  {
   "cell_type": "code",
   "execution_count": 280,
   "metadata": {},
   "outputs": [
    {
     "name": "stdout",
     "output_type": "stream",
     "text": [
      "r2_score: 0.6367452319814639\n",
      "explained_variance_score: 0.707964412330778\n"
     ]
    }
   ],
   "source": [
    "from sklearn.metrics import r2_score, explained_variance_score\n",
    "\n",
    "print(f\"r2_score: {r2_score(combined_df['Fraud Reporting Count'].values, predicted_output)}\" ) #1 is best\n",
    "print(f\"explained_variance_score: {explained_variance_score(combined_df['Fraud Reporting Count'].values, predicted_output)}\") #1 is best\n"
   ]
  },
  {
   "cell_type": "code",
   "execution_count": null,
   "metadata": {},
   "outputs": [],
   "source": []
  }
 ],
 "metadata": {
  "kernelspec": {
   "display_name": "Python 3.7.11 ('dev')",
   "language": "python",
   "name": "python3"
  },
  "language_info": {
   "codemirror_mode": {
    "name": "ipython",
    "version": 3
   },
   "file_extension": ".py",
   "mimetype": "text/x-python",
   "name": "python",
   "nbconvert_exporter": "python",
   "pygments_lexer": "ipython3",
   "version": "3.7.11"
  },
  "orig_nbformat": 4,
  "vscode": {
   "interpreter": {
    "hash": "55e4577a2571253a7a5b3bc1c37997cc8a269baa367fe02337f2d54441305a34"
   }
  }
 },
 "nbformat": 4,
 "nbformat_minor": 2
}
